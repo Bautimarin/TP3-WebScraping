{
  "cells": [
    {
      "cell_type": "code",
      "execution_count": 14,
      "metadata": {
        "id": "u2CG79ouaT3g"
      },
      "outputs": [
        {
          "ename": "",
          "evalue": "",
          "output_type": "error",
          "traceback": [
            "\u001b[1;31mThe Kernel crashed while executing code in the current cell or a previous cell. \n",
            "\u001b[1;31mPlease review the code in the cell(s) to identify a possible cause of the failure. \n",
            "\u001b[1;31mClick <a href='https://aka.ms/vscodeJupyterKernelCrash'>here</a> for more info. \n",
            "\u001b[1;31mView Jupyter <a href='command:jupyter.viewOutput'>log</a> for further details."
          ]
        }
      ],
      "source": [
        "import requests\n",
        "from bs4 import BeautifulSoup\n",
        "import pandas as pd\n",
        "\n",
        "# No necesitamos la función arreglarPorcentaje ya que no hay necesidad de procesamiento adicional\n",
        "def obtenerTexto(elementos):\n",
        "    return [elemento.getText().strip() for elemento in elementos]\n",
        "\n",
        "diccionario = {}\n",
        "pagina = requests.get(\"https://www.linkedin.com/jobs/search?keywords=Sistemas&location=Argentina&geoId=100446943&trk=public_jobs_jobs-search-bar_search-submit&currentJobId=3921453317&position=7&pageNum=0\")\n",
        "objeto_sopa = BeautifulSoup(pagina.content, 'html.parser')\n",
        "\n",
        "# Extraer los datos de la página\n",
        "puesto = objeto_sopa.find_all('h3', class_='base-search-card__title')\n",
        "empresa = objeto_sopa.find_all('h4', class_='base-search-card__subtitle')\n",
        "ubicacion = objeto_sopa.find_all('span', class_='job-search-card__location')\n",
        "jornada = objeto_sopa.find_all('time', class_='job-search-card__listdate')\n",
        "\n",
        "# Llenar el diccionario con los datos extraídos\n",
        "diccionario[\"Puesto\"] = obtenerTexto(puesto)\n",
        "diccionario[\"Empresa\"] = obtenerTexto(empresa)\n",
        "diccionario[\"Ubicación\"] = obtenerTexto(ubicacion)\n",
        "diccionario[\"TiempoPublicado\"] = obtenerTexto(jornada)\n",
        "\n",
        "# Nos quedamos con los 50 primeros elementos\n",
        "for key in diccionario:\n",
        "    diccionario[key] = diccionario[key][:50]\n",
        "\n",
        "# Convertir el diccionario en un DataFrame de pandas\n",
        "data = pd.DataFrame(diccionario)\n",
        "\n",
        "# Guardar el DataFrame en un archivo CSV\n",
        "data.to_csv(\"./ofertasLinkedIn.csv\", index=False)\n"
      ]
    }
  ],
  "metadata": {
    "colab": {
      "provenance": []
    },
    "kernelspec": {
      "display_name": "Python 3",
      "name": "python3"
    },
    "language_info": {
      "codemirror_mode": {
        "name": "ipython",
        "version": 3
      },
      "file_extension": ".py",
      "mimetype": "text/x-python",
      "name": "python",
      "nbconvert_exporter": "python",
      "pygments_lexer": "ipython3",
      "version": "3.12.2"
    }
  },
  "nbformat": 4,
  "nbformat_minor": 0
}
